{
  "cells": [
    {
      "cell_type": "markdown",
      "metadata": {
        "id": "view-in-github",
        "colab_type": "text"
      },
      "source": [
        "<a href=\"https://colab.research.google.com/github/mesimoa/MESIMO-BAN6420/blob/main/Mesimo_Abiola_module_2_assignment_(1).ipynb\" target=\"_parent\"><img src=\"https://colab.research.google.com/assets/colab-badge.svg\" alt=\"Open In Colab\"/></a>"
      ]
    },
    {
      "cell_type": "code",
      "source": [
        "from google.colab import drive\n",
        "drive.mount('/content/drive')"
      ],
      "metadata": {
        "id": "RSEuZzxn2hpF",
        "colab": {
          "base_uri": "https://localhost:8080/"
        },
        "outputId": "fbd02501-9c76-494b-add8-679dc248f0db"
      },
      "execution_count": 2,
      "outputs": [
        {
          "output_type": "stream",
          "name": "stdout",
          "text": [
            "Mounted at /content/drive\n"
          ]
        }
      ]
    },
    {
      "cell_type": "code",
      "execution_count": 7,
      "metadata": {
        "id": "zcIvy-Tr1fHv"
      },
      "outputs": [],
      "source": [
        "def get_employee_details_by_name(name):\n",
        "    try:\n",
        "        employee_details = salary_data[salary_data['EmployeeName'].str.contains(name, case=False)]\n",
        "        if employee_details.empty == True:\n",
        "            return \"Employee not found\"\n",
        "        else:\n",
        "            return employee_details\n",
        "    except Exception as e:\n",
        "        print(e)"
      ]
    },
    {
      "cell_type": "code",
      "execution_count": 8,
      "metadata": {
        "id": "5Mc7OgBz1fHy"
      },
      "outputs": [],
      "source": [
        "def process_salary_data_using_dict(data):\n",
        "    try:\n",
        "        salary_dict = data.to_dict(orient='records')\n",
        "        return salary_dict\n",
        "    except Exception as e:\n",
        "        print(e)\n",
        "        return None\n",
        "\n",
        "salary_data_dict = process_salary_data_using_dict(salary_data)"
      ]
    },
    {
      "cell_type": "code",
      "execution_count": 6,
      "metadata": {
        "colab": {
          "base_uri": "https://localhost:8080/"
        },
        "id": "xqzjo7wy1fHr",
        "outputId": "f64d0a2e-3aba-49c9-cc67-17dd5d92bff1"
      },
      "outputs": [
        {
          "output_type": "stream",
          "name": "stdout",
          "text": [
            "        EmployeeName                                        JobTitle  \\\n",
            "0     NATHANIEL FORD  GENERAL MANAGER-METROPOLITAN TRANSIT AUTHORITY   \n",
            "1       GARY JIMENEZ                 CAPTAIN III (POLICE DEPARTMENT)   \n",
            "2     ALBERT PARDINI                 CAPTAIN III (POLICE DEPARTMENT)   \n",
            "3  CHRISTOPHER CHONG            WIRE ROPE CABLE MAINTENANCE MECHANIC   \n",
            "4    PATRICK GARDNER    DEPUTY CHIEF OF DEPARTMENT,(FIRE DEPARTMENT)   \n",
            "\n",
            "     BasePay OvertimePay   OtherPay      Benefits   TotalPay  \\\n",
            "0  167411.18         0.0  400184.25  Not Provided  567595.43   \n",
            "1  155966.02   245131.88  137811.38  Not Provided  538909.28   \n",
            "2  212739.13   106088.18    16452.6  Not Provided  335279.91   \n",
            "3    77916.0    56120.71   198306.9  Not Provided  332343.61   \n",
            "4   134401.6      9737.0  182234.59  Not Provided  326373.19   \n",
            "\n",
            "   TotalPayBenefits  Year  \n",
            "0         567595.43  2011  \n",
            "1         538909.28  2011  \n",
            "2         335279.91  2011  \n",
            "3         332343.61  2011  \n",
            "4         326373.19  2011  \n"
          ]
        },
        {
          "output_type": "stream",
          "name": "stderr",
          "text": [
            "<ipython-input-6-8ba87e6988aa>:3: DtypeWarning: Columns (2,3,4,5) have mixed types. Specify dtype option on import or set low_memory=False.\n",
            "  salary_data = pd.read_csv(\"/content/drive/MyDrive/mesimo Dataset/Total.csv\")\n"
          ]
        }
      ],
      "source": [
        "import pandas as pd\n",
        "\n",
        "salary_data = pd.read_csv(\"/content/drive/MyDrive/mesimo Dataset/Total.csv\")\n",
        "print(salary_data.head(5))"
      ]
    },
    {
      "cell_type": "code",
      "execution_count": 9,
      "metadata": {
        "colab": {
          "base_uri": "https://localhost:8080/"
        },
        "id": "-3-ZKnFj1fHz",
        "outputId": "8518f34e-d861-4079-9883-fb5056dea07f"
      },
      "outputs": [
        {
          "output_type": "stream",
          "name": "stdout",
          "text": [
            "Details for employee NATHANIEL FORD exported to Employee Profile.zip\n"
          ]
        }
      ],
      "source": [
        "import zipfile\n",
        "import os\n",
        "\n",
        "def export_employee_details_to_zip(name):\n",
        "    try:\n",
        "        employee_details = get_employee_details_by_name(name)\n",
        "\n",
        "        filename_csv = name + '.csv'\n",
        "        employee_details.to_csv(filename_csv, index=False)\n",
        "\n",
        "        filename_zip = 'Employee Profile.zip'\n",
        "        with zipfile.ZipFile(filename_zip, 'w') as zipf:\n",
        "            zipf.write(filename_csv)\n",
        "\n",
        "        os.remove(filename_csv)\n",
        "\n",
        "        print(f\"Details for employee {name} exported to {filename_zip}\")\n",
        "    except Exception as e:\n",
        "        print(e)\n",
        "\n",
        "export_employee_details_to_zip('NATHANIEL FORD')\n",
        "\n"
      ]
    },
    {
      "cell_type": "markdown",
      "source": [
        "\n",
        "\n",
        "\n",
        "\n",
        "\n"
      ],
      "metadata": {
        "id": "syX1mxtp_WJP"
      }
    },
    {
      "cell_type": "markdown",
      "source": [
        "### **THIS SECTION IS TO INSTALL THE R WITHIN THE GOOGLE COLAB ENVIRONMENT**"
      ],
      "metadata": {
        "id": "SQUye4sK_ED0"
      }
    },
    {
      "cell_type": "code",
      "source": [
        "#I installed R by running the following command in a code cell\n",
        "\n",
        "!apt-get install r-base"
      ],
      "metadata": {
        "colab": {
          "base_uri": "https://localhost:8080/"
        },
        "id": "cPReJAHo-6_e",
        "outputId": "1d11d7fe-f4aa-4ac8-9bc9-eb55643a5c52"
      },
      "execution_count": 10,
      "outputs": [
        {
          "output_type": "stream",
          "name": "stdout",
          "text": [
            "Reading package lists... Done\n",
            "Building dependency tree... Done\n",
            "Reading state information... Done\n",
            "r-base is already the newest version (4.4.1-1.2204.0).\n",
            "0 upgraded, 0 newly installed, 0 to remove and 45 not upgraded.\n"
          ]
        }
      ]
    },
    {
      "cell_type": "code",
      "source": [
        "#I use the IRkernel to run R code in Colab. Install the IRkernel package and set it up\n",
        "!R -e \"install.packages('IRkernel'); IRkernel::installspec(user = FALSE)\""
      ],
      "metadata": {
        "colab": {
          "base_uri": "https://localhost:8080/"
        },
        "id": "tGoMDKxZ_CYQ",
        "outputId": "9768ce5a-7cc5-4882-9237-92675f30ec2f"
      },
      "execution_count": 11,
      "outputs": [
        {
          "output_type": "stream",
          "name": "stdout",
          "text": [
            "\n",
            "R version 4.4.1 (2024-06-14) -- \"Race for Your Life\"\n",
            "Copyright (C) 2024 The R Foundation for Statistical Computing\n",
            "Platform: x86_64-pc-linux-gnu\n",
            "\n",
            "R is free software and comes with ABSOLUTELY NO WARRANTY.\n",
            "You are welcome to redistribute it under certain conditions.\n",
            "Type 'license()' or 'licence()' for distribution details.\n",
            "\n",
            "  Natural language support but running in an English locale\n",
            "\n",
            "R is a collaborative project with many contributors.\n",
            "Type 'contributors()' for more information and\n",
            "'citation()' on how to cite R or R packages in publications.\n",
            "\n",
            "Type 'demo()' for some demos, 'help()' for on-line help, or\n",
            "'help.start()' for an HTML browser interface to help.\n",
            "Type 'q()' to quit R.\n",
            "\n",
            "> install.packages('IRkernel'); IRkernel::installspec(user = FALSE)\n",
            "Installing package into ‘/usr/local/lib/R/site-library’\n",
            "(as ‘lib’ is unspecified)\n",
            "trying URL 'https://cran.rstudio.com/src/contrib/IRkernel_1.3.2.tar.gz'\n",
            "Content type 'application/x-gzip' length 45172 bytes (44 KB)\n",
            "==================================================\n",
            "downloaded 44 KB\n",
            "\n",
            "* installing *source* package ‘IRkernel’ ...\n",
            "** package ‘IRkernel’ successfully unpacked and MD5 sums checked\n",
            "** using staged installation\n",
            "** R\n",
            "** inst\n",
            "** byte-compile and prepare package for lazy loading\n",
            "** help\n",
            "*** installing help indices\n",
            "** building package indices\n",
            "** testing if installed package can be loaded from temporary location\n",
            "** testing if installed package can be loaded from final location\n",
            "** testing if installed package keeps a record of temporary installation path\n",
            "* DONE (IRkernel)\n",
            "\n",
            "The downloaded source packages are in\n",
            "\t‘/tmp/Rtmpdt2cqO/downloaded_packages’\n",
            "\u001b[?25h> \n",
            "> \n",
            "\u001b[?25h"
          ]
        }
      ]
    },
    {
      "cell_type": "code",
      "source": [
        "# i Ensured the zip file is in the current directory\n",
        "import zipfile\n",
        "\n",
        "# Create a sample zip file for demonstration\n",
        "with zipfile.ZipFile('Employee Profile.zip', 'w') as zipf:\n",
        "    with open('NATHANIEL FORD.csv', 'w') as f:\n",
        "        f.write('Name,Position,Department\\nNathaniel Ford,Engineer,Development\\n')\n",
        "    zipf.write('NATHANIEL FORD.csv')\n",
        "\n",
        "# Remove the CSV file to mimic the initial state\n",
        "import os\n",
        "os.remove('NATHANIEL FORD.csv')\n"
      ],
      "metadata": {
        "id": "NvzbbnySMBiJ"
      },
      "execution_count": 12,
      "outputs": []
    },
    {
      "cell_type": "markdown",
      "source": [
        "**I Switched to R kernel in Google Colab**"
      ],
      "metadata": {
        "id": "okmFOJBUBsWN"
      }
    },
    {
      "cell_type": "code",
      "source": [
        "# Install necessary packages\n",
        "install.packages(\"utils\")\n",
        "\n",
        "# Load the utils package\n",
        "library(utils)\n",
        "\n",
        "# Unzip the file\n",
        "unzip(\"Employee Profile.zip\", exdir = \".\")\n",
        "\n",
        "# Read and display the CSV file\n",
        "employee_data <- read.csv(\"NATHANIEL FORD.csv\")\n",
        "print(employee_data)\n"
      ],
      "metadata": {
        "colab": {
          "base_uri": "https://localhost:8080/"
        },
        "id": "4qI3t-DbBqWj",
        "outputId": "345e36da-be9a-4324-e303-50279aae5e3a"
      },
      "execution_count": 1,
      "outputs": [
        {
          "output_type": "stream",
          "name": "stderr",
          "text": [
            "Installing package into ‘/usr/local/lib/R/site-library’\n",
            "(as ‘lib’ is unspecified)\n",
            "\n",
            "Warning message:\n",
            "“package ‘utils’ is a base package, and should not be updated”\n"
          ]
        },
        {
          "output_type": "stream",
          "name": "stdout",
          "text": [
            "            Name Position  Department\n",
            "1 Nathaniel Ford Engineer Development\n"
          ]
        }
      ]
    }
  ],
  "metadata": {
    "kernelspec": {
      "display_name": "R",
      "name": "ir"
    },
    "language_info": {
      "name": "R"
    },
    "colab": {
      "provenance": [],
      "include_colab_link": true
    }
  },
  "nbformat": 4,
  "nbformat_minor": 0
}